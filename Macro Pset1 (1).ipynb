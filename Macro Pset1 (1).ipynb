{
 "cells": [
  {
   "cell_type": "code",
   "execution_count": 8,
   "id": "2968b879",
   "metadata": {
    "scrolled": true
   },
   "outputs": [],
   "source": [
    "# Profit Function\n",
    "import numpy as np\n",
    "\n",
    "# Intuition: the value function of n units of land is the value of selling d units for the price p(d) ...\n",
    "# ... plus the continuation value of having n-d land units.         \n",
    "def profit(n,p): # n is the units of lands and p is the price vector\n",
    "    p=np.array(p) \n",
    "    d = np.arange(1,np.size(p)+1) # set of units of lands that the owner can sell\n",
    "    V = np.zeros(n+1) # initialization of the value function \n",
    "    for i in range(1,n+1):\n",
    "        d_restricted = d[d<=i] # after selling d lands, the owner can not have a negative number of units remaining\n",
    "        p_restricted = p[d<=i] # restricing the vector of prices from d to d_restricted\n",
    "        V_options = p_restricted + V[i-d_restricted] # here the owner evaluates all feaseable options\n",
    "        V[i] = np.max(V_options) # choosing the best feasible options\n",
    "    return V[n]"
   ]
  },
  {
   "cell_type": "code",
   "execution_count": 9,
   "id": "dc036cff",
   "metadata": {},
   "outputs": [
    {
     "name": "stdout",
     "output_type": "stream",
     "text": [
      "Total Profit considering p = [ 1  5  8  9 10 17 17 20] : 22.0\n"
     ]
    }
   ],
   "source": [
    "# Item c\n",
    "p = np.array([1,5,8,9,10,17,17,20])\n",
    "profit(8,p)\n",
    "print('Total Profit considering p =', p, ':',profit(8,p))"
   ]
  },
  {
   "cell_type": "code",
   "execution_count": 14,
   "id": "e6e6e20c",
   "metadata": {},
   "outputs": [
    {
     "name": "stdout",
     "output_type": "stream",
     "text": [
      "Total Profit considering p = [ 3  5  8  9 10 17 17 20] : 24.0\n"
     ]
    }
   ],
   "source": [
    "# Item d\n",
    "p = np.array([3,5,8,9,10,17,17,20])\n",
    "profit(8,p)\n",
    "print('Total Profit considering p =', p, ':',profit(8,p))"
   ]
  },
  {
   "cell_type": "code",
   "execution_count": 13,
   "id": "52b65975",
   "metadata": {},
   "outputs": [
    {
     "data": {
      "text/plain": [
       "[72.0,\n",
       " 128.0,\n",
       " 96.0,\n",
       " 78.0,\n",
       " 40.0,\n",
       " 50.0,\n",
       " 66.0,\n",
       " 76.0,\n",
       " 48.0,\n",
       " 42.0,\n",
       " 48.0,\n",
       " 42.0,\n",
       " 62.0,\n",
       " 75.0,\n",
       " 128.0,\n",
       " 62.0,\n",
       " 87.0,\n",
       " 54.0,\n",
       " 80.0,\n",
       " 112.0,\n",
       " 49.0,\n",
       " 49.0,\n",
       " 80.0,\n",
       " 47.0,\n",
       " 41.0,\n",
       " 64.0,\n",
       " 45.0,\n",
       " 60.0,\n",
       " 41.0,\n",
       " 44.0,\n",
       " 120.0,\n",
       " 112.0,\n",
       " 88.0,\n",
       " 104.0,\n",
       " 66.0,\n",
       " 50.0,\n",
       " 50.0,\n",
       " 52.0,\n",
       " 38.0,\n",
       " 104.0,\n",
       " 112.0,\n",
       " 40.0,\n",
       " 80.0,\n",
       " 64.0,\n",
       " 56.0,\n",
       " 72.0,\n",
       " 41.0,\n",
       " 96.0,\n",
       " 84.0,\n",
       " 88.0,\n",
       " 50.0,\n",
       " 53.0,\n",
       " 80.0,\n",
       " 40.0,\n",
       " 72.0,\n",
       " 112.0,\n",
       " 56.0,\n",
       " 64.0,\n",
       " 100.0,\n",
       " 36.0,\n",
       " 52.0,\n",
       " 192.0,\n",
       " 48.0,\n",
       " 56.0,\n",
       " 128.0,\n",
       " 27.0,\n",
       " 47.0,\n",
       " 50.0,\n",
       " 51.0,\n",
       " 152.0,\n",
       " 47.0,\n",
       " 48.0,\n",
       " 46.0,\n",
       " 64.0,\n",
       " 96.0,\n",
       " 96.0,\n",
       " 56.0,\n",
       " 64.0,\n",
       " 80.0,\n",
       " 52.0,\n",
       " 54.0,\n",
       " 56.0,\n",
       " 88.0,\n",
       " 41.0,\n",
       " 100.0,\n",
       " 58.0,\n",
       " 56.0,\n",
       " 47.0,\n",
       " 64.0,\n",
       " 84.0,\n",
       " 56.0,\n",
       " 52.0,\n",
       " 80.0,\n",
       " 42.0,\n",
       " 80.0,\n",
       " 84.0,\n",
       " 76.0,\n",
       " 47.0,\n",
       " 80.0,\n",
       " 104.0]"
      ]
     },
     "execution_count": 13,
     "metadata": {},
     "output_type": "execute_result"
    }
   ],
   "source": [
    "#Item e\n",
    "import random\n",
    "p = [sorted([random.randint(1,50) for i in range(8)]) for j in range(100)]\n",
    "\n",
    "V =[profit(8, prices) for prices in p]\n",
    "V"
   ]
  }
 ],
 "metadata": {
  "kernelspec": {
   "display_name": "Python 3",
   "language": "python",
   "name": "python3"
  },
  "language_info": {
   "codemirror_mode": {
    "name": "ipython",
    "version": 3
   },
   "file_extension": ".py",
   "mimetype": "text/x-python",
   "name": "python",
   "nbconvert_exporter": "python",
   "pygments_lexer": "ipython3",
   "version": "3.8.8"
  }
 },
 "nbformat": 4,
 "nbformat_minor": 5
}
